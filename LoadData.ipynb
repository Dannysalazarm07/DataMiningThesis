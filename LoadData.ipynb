{
 "cells": [
  {
   "cell_type": "markdown",
   "metadata": {},
   "source": [
    "## Loading MATRIZ_MULTINIVEL.csv (All variables) and accidente_ofidico.csv (AO ocurrence variable)"
   ]
  },
  {
   "cell_type": "code",
   "execution_count": 50,
   "metadata": {},
   "outputs": [],
   "source": [
    "import pandas as pd\n",
    "import numpy as np\n",
    "\n",
    "\n",
    "#matMultinivel = pd.read_csv(\"C:\\\\Users\\\\Daniel\\\\Documents\\\\Unal\\\\Maestria_2018_2\\\\Tesis\\\\MineriaDeDatos\\\\dataSetVariables.csv\",\n",
    "#                         sep=';', encoding='latin-1')\n",
    "\n",
    "#leishmaniasisCasos = pd.read_csv(\"C:\\\\Users\\\\Daniel\\\\Documents\\\\Unal\\\\Maestria_2018_2\\\\Tesis\\\\MineriaDeDatos\\\\leishmaniasisCasos.csv\",\n",
    "#                         sep=';', encoding='latin-1')\n",
    "\n",
    "accidente_ofidico_path = \"C:\\\\Users\\\\Daniel\\\\Documents\\\\Unal\\\\Maestria_2018_2\\\\Tesis\\\\MineriaDeDatos\\\\Datos\\\\casos_leishmaniasis.csv\"\n",
    "ao_df = pd.read_csv(accidente_ofidico_path)\n",
    "variables_path = \"C:\\\\Users\\\\Daniel\\\\Documents\\\\Unal\\\\Maestria_2018_2\\\\Tesis\\\\MineriaDeDatos\\\\Datos\\\\variables_data_set.csv\"\n",
    "variables_df = pd.read_csv(variables_path, encoding='latin-1')\n",
    "#del variables_df['esperados']\n"
   ]
  },
  {
   "cell_type": "code",
   "execution_count": 33,
   "metadata": {},
   "outputs": [
    {
     "name": "stderr",
     "output_type": "stream",
     "text": [
      "c:\\users\\daniel\\appdata\\local\\programs\\python\\python37-32\\lib\\site-packages\\IPython\\core\\interactiveshell.py:2785: DtypeWarning: Columns (19,21,22,28,29,30,32,59) have mixed types. Specify dtype option on import or set low_memory=False.\n",
      "  interactivity=interactivity, compiler=compiler, result=result)\n"
     ]
    }
   ],
   "source": [
    "#Comparacion entre mio y el malo(rapido)\n",
    "\n",
    "matMultinivel = pd.read_csv(\"C:\\\\Users\\\\Daniel\\\\Documents\\\\Unal\\\\Maestria_2018_2\\\\Tesis\\\\MineriaDeDatos\\\\completeDataSet.csv\", encoding='latin-1', sep=';')\n",
    "variables_path10 = \"C:\\\\Users\\\\Daniel\\\\Documents\\\\Unal\\\\Maestria_2018_2\\\\Tesis\\\\MineriaDeDatos\\\\Datos\\\\total_variables_data_set.csv\"\n",
    "variables_df10 = pd.read_csv(variables_path10, encoding='latin-1')"
   ]
  },
  {
   "cell_type": "code",
   "execution_count": 35,
   "metadata": {},
   "outputs": [
    {
     "name": "stdout",
     "output_type": "stream",
     "text": [
      "True\n"
     ]
    }
   ],
   "source": [
    "print(matMultinivel['casos_leishmaniasis'].equals(variables_df10['casos_leishmaniasis']))\n",
    "\n",
    "\n",
    "# for i in range(len(matMultinivel['casos_leishmaniasis'])):\n",
    "#     if(matMultinivel['casos_leishmaniasis'][i] != variables_df10['casos_leishmaniasis'][i]):\n",
    "#         print(\"i =\", i, matMultinivel['casos_leishmaniasis'][i],\" Duefrenres\" \" j=\", i, variables_df10['casos_leishmaniasis'][i])"
   ]
  },
  {
   "cell_type": "code",
   "execution_count": 8,
   "metadata": {},
   "outputs": [
    {
     "name": "stdout",
     "output_type": "stream",
     "text": [
      "  Nombre municipio  Orden Departamento  Codigo DANE  PoblacionMunicipal 2005  \\\n",
      "0         MEDELLIN    559    ANTIOQUIA         5001                  2214494   \n",
      "1        ABEJORRAL      1    ANTIOQUIA         5002                    20249   \n",
      "2         ABRIAQUI      3    ANTIOQUIA         5004                     2690   \n",
      "3       ALEJANDRIA     23    ANTIOQUIA         5021                     3816   \n",
      "4            AMAGA     33    ANTIOQUIA         5030                    27155   \n",
      "\n",
      "   PoblacionMunicipal 2006  PoblacionMunicipal 2007  PoblacionMunicipal 2008  \\\n",
      "0                  2239003                  2265244                  2291378   \n",
      "1                    20113                    20022                    19930   \n",
      "2                     2636                     2570                     2504   \n",
      "3                     3789                     3747                     3724   \n",
      "4                    27455                    27709                    27950   \n",
      "\n",
      "   PoblacionMunicipal 2009  PoblacionMunicipal 2010  \\\n",
      "0                  2317336                  2343049   \n",
      "1                    19853                    19750   \n",
      "2                     2458                     2397   \n",
      "3                     3688                     3652   \n",
      "4                    28192                    28433   \n",
      "\n",
      "               ...                Total casos Marzo de 2016  \\\n",
      "0              ...                                        0   \n",
      "1              ...                                        1   \n",
      "2              ...                                        0   \n",
      "3              ...                                        0   \n",
      "4              ...                                        0   \n",
      "\n",
      "   Total casos Abril de 2016  Total casos Mayo de 2016  \\\n",
      "0                          0                         0   \n",
      "1                          0                         0   \n",
      "2                          0                         0   \n",
      "3                          0                         0   \n",
      "4                          0                         0   \n",
      "\n",
      "   Total casos Junio de 2016  Total casos Julio de 2016  \\\n",
      "0                          0                          0   \n",
      "1                          0                          0   \n",
      "2                          0                          0   \n",
      "3                          0                          0   \n",
      "4                          0                          0   \n",
      "\n",
      "   Total casos Agosto de 2016  Total casos Septiembre de 2016  \\\n",
      "0                           0                               0   \n",
      "1                           0                               0   \n",
      "2                           0                               0   \n",
      "3                           0                               0   \n",
      "4                           0                               0   \n",
      "\n",
      "   Total casos Octubre de 2016  Total casos Noviembre de 2016  \\\n",
      "0                            0                              0   \n",
      "1                            0                              0   \n",
      "2                            0                              0   \n",
      "3                            0                              0   \n",
      "4                            0                              0   \n",
      "\n",
      "   Total casos Diciembre de 2016  \n",
      "0                              0  \n",
      "1                              0  \n",
      "2                              0  \n",
      "3                              0  \n",
      "4                              0  \n",
      "\n",
      "[5 rows x 140 columns]\n"
     ]
    }
   ],
   "source": [
    "#print(variables_df.head())\n",
    "print(ao_df.head())"
   ]
  },
  {
   "cell_type": "markdown",
   "metadata": {},
   "source": [
    "## Join ao_df to variables_df"
   ]
  },
  {
   "cell_type": "code",
   "execution_count": 51,
   "metadata": {},
   "outputs": [],
   "source": [
    "#selecting columns in data set with ao ocurrence in th whole period (2007 - 2016)\n",
    "only_ocurrences = ao_df.iloc[:,20:140]\n",
    "only_occurences_col = only_ocurrences.values.flatten()\n",
    "variables_df['casos_leishmaniasis'] = only_occurences_col\n",
    "#print(variables_df['casos_leishmaniasis'])\n",
    "#variables_df.to_csv('total_variables_data_set.csv', encoding='latin-1')"
   ]
  },
  {
   "cell_type": "code",
   "execution_count": 52,
   "metadata": {},
   "outputs": [],
   "source": [
    "#Anadir poblacio  total al data set de variables\n",
    "only_population = ao_df.iloc[:,6:16]\n",
    "dfNewPopulation = only_population.iloc[:,0]\n",
    "columsNames = [\"poblacion_2007\", \"poblacion_2008\", \"poblacion_2009\", \"poblacion_2010\", \"poblacion_2011\", \n",
    "               \"poblacion_2012\", \"poblacion_2013\", \"poblacion_2014\", \"poblacion_2015\", \"poblacion_2016\"]\n",
    "\n",
    "for i in range(len(columsNames)):\n",
    "    thisColum = only_population.iloc[:,i]\n",
    "    if i==0:\n",
    "        d=11\n",
    "    else:\n",
    "        d=12\n",
    "    for j in range(d):\n",
    "        dfNewPopulation = pd.concat([dfNewPopulation, thisColum], axis=1)\n",
    "\n",
    "dfNewPopulation.to_csv('total_poblacion.csv', encoding='latin-1')\n",
    "\n",
    "#selecting columns in data set with ao ocurrence in th whole period (2007 - 2016)\n",
    "only_population_col = dfNewPopulation.values.flatten()\n",
    "variables_df['total_poblacion'] = only_population_col\n",
    "variables_df.to_csv('total_variables_data_set.csv', encoding='latin-1')"
   ]
  },
  {
   "cell_type": "code",
   "execution_count": null,
   "metadata": {},
   "outputs": [],
   "source": []
  }
 ],
 "metadata": {
  "kernelspec": {
   "display_name": "Python 3",
   "language": "python",
   "name": "python3"
  },
  "language_info": {
   "codemirror_mode": {
    "name": "ipython",
    "version": 3
   },
   "file_extension": ".py",
   "mimetype": "text/x-python",
   "name": "python",
   "nbconvert_exporter": "python",
   "pygments_lexer": "ipython3",
   "version": "3.7.2"
  }
 },
 "nbformat": 4,
 "nbformat_minor": 2
}
